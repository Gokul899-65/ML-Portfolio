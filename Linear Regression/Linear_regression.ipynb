{
 "cells": [
  {
   "cell_type": "markdown",
   "id": "2b1b89e1-d43e-4198-86c4-23cc31d8acaa",
   "metadata": {},
   "source": [
    "# Import Libraries"
   ]
  },
  {
   "cell_type": "code",
   "execution_count": null,
   "id": "53b8063a-ff6c-41fd-9a1a-221de6e15dbf",
   "metadata": {},
   "outputs": [],
   "source": [
    "import pandas as pd\n",
    "import numpy as np\n",
    "from matplotlib import pyplot as plt\n",
    "from sklearn.preprocessing import StandardScaler\n",
    "from sklearn.metrics import r2_score"
   ]
  },
  {
   "cell_type": "markdown",
   "id": "5ebceb8f-e735-4fd1-97ef-b58c14598ed2",
   "metadata": {},
   "source": [
    "# Load the housing dataset"
   ]
  },
  {
   "cell_type": "code",
   "execution_count": null,
   "id": "796bb5f2-205d-41f1-9536-54e5365fd365",
   "metadata": {},
   "outputs": [],
   "source": [
    "df = pd.read_csv('Housing.csv')\n",
    "df.dropna(inplace=True)  # Remove missing values"
   ]
  },
  {
   "cell_type": "markdown",
   "id": "e709bdb4-5dde-4b88-b2d6-293977524b5b",
   "metadata": {},
   "source": [
    "# Selecting one feature for simple linear regression (e.g., Square Footage)"
   ]
  },
  {
   "cell_type": "code",
   "execution_count": null,
   "id": "38265530-dd2d-4715-a057-c1f0d39d0747",
   "metadata": {},
   "outputs": [],
   "source": [
    "X = df['area'].values.reshape(-1, 1)  # Reshape for scaling\n",
    "y = df['price'].values  # Target (Dependent Variable)"
   ]
  },
  {
   "cell_type": "markdown",
   "id": "9cf38b1b-543e-4ef9-a60e-651d237b34c1",
   "metadata": {},
   "source": [
    "# Standardize X values"
   ]
  },
  {
   "cell_type": "code",
   "execution_count": null,
   "id": "0d1d17b5-a8ed-47b2-ad84-e1d4ea299fef",
   "metadata": {},
   "outputs": [],
   "source": [
    "scaler = StandardScaler()\n",
    "X = scaler.fit_transform(X).flatten()"
   ]
  },
  {
   "cell_type": "code",
   "execution_count": null,
   "id": "775f8f9e-5991-4c63-a9c8-7d81ffb3fcc4",
   "metadata": {},
   "outputs": [],
   "source": [
    "# Calculate the mean of X and y"
   ]
  },
  {
   "cell_type": "code",
   "execution_count": null,
   "id": "70598478-eea2-4732-9033-fd367a0066c0",
   "metadata": {},
   "outputs": [],
   "source": [
    "xmean = np.mean(X)\n",
    "ymean = np.mean(y)"
   ]
  },
  {
   "cell_type": "markdown",
   "id": "c96341f8-ca1a-49c7-800a-41b38ffbba83",
   "metadata": {},
   "source": [
    "# Calculate the terms needed for the numerator and denominator of beta"
   ]
  },
  {
   "cell_type": "code",
   "execution_count": null,
   "id": "e4a86523-7f36-4de5-9344-f3d99bbfefd6",
   "metadata": {},
   "outputs": [],
   "source": [
    "df['xycov'] = (X - xmean) * (y - ymean)\n",
    "df['xvar'] = (X - xmean) ** 2"
   ]
  },
  {
   "cell_type": "markdown",
   "id": "f7a8c3bd-2968-413c-8e14-d79a756ea3c8",
   "metadata": {},
   "source": [
    "# Calculate beta and alpha"
   ]
  },
  {
   "cell_type": "code",
   "execution_count": null,
   "id": "55dda5c0-1d78-457e-ad54-f15c513b0994",
   "metadata": {},
   "outputs": [],
   "source": [
    "beta = df['xycov'].sum() / df['xvar'].sum()\n",
    "alpha = ymean - (beta * xmean)\n",
    "print(f'alpha = {alpha}')\n",
    "print(f'beta = {beta}')"
   ]
  },
  {
   "cell_type": "code",
   "execution_count": null,
   "id": "7003b762-c160-46bd-9967-fdbf8c44d329",
   "metadata": {},
   "outputs": [],
   "source": [
    "# Predict house prices"
   ]
  },
  {
   "cell_type": "code",
   "execution_count": null,
   "id": "dd6f1576-af6b-440a-826b-5b457cfa609e",
   "metadata": {},
   "outputs": [],
   "source": [
    "y_pred = alpha + beta * X"
   ]
  },
  {
   "cell_type": "code",
   "execution_count": null,
   "id": "9f41a3dd-06d6-4350-9c42-18e1aa7820e5",
   "metadata": {},
   "outputs": [],
   "source": [
    "# Plot regression against actual data"
   ]
  },
  {
   "cell_type": "code",
   "execution_count": null,
   "id": "cd7e6200-9404-4bd6-8468-1a3524f2c90a",
   "metadata": {},
   "outputs": [],
   "source": [
    "plt.figure(figsize=(12, 6))\n",
    "plt.plot(X, y_pred, color='blue', linewidth=2, label='Regression Line')  \n",
    "plt.scatter(X, y, color='red', alpha=0.6, edgecolors='k', label='Actual Data')  \n",
    "plt.title('House Price Prediction: Actual vs Predicted')\n",
    "plt.xlabel('Square Footage (Standardized)')\n",
    "plt.ylabel('Price ($)')\n",
    "plt.legend()\n",
    "plt.grid(True)\n",
    "plt.show()"
   ]
  },
  {
   "cell_type": "markdown",
   "id": "7b82e798-092d-4398-8d53-40e414ac0147",
   "metadata": {},
   "source": [
    "# Function to predict new house prices"
   ]
  },
  {
   "cell_type": "code",
   "execution_count": null,
   "id": "9affe1ee-219b-4fcb-99d5-0df780920242",
   "metadata": {},
   "outputs": [],
   "source": [
    "def predict_price(sq_ft_value):\n",
    "    standardized_value = scaler.transform([[sq_ft_value]])[0, 0]\n",
    "    return alpha + beta * standardized_value\n",
    "\n",
    "# Example: Predict price for a 2000 sq ft house\n",
    "predicted_price = predict_price(2000)\n",
    "print(f'Predicted Price for 2000 sq ft house: ${predicted_price:.2f}')"
   ]
  },
  {
   "cell_type": "code",
   "execution_count": null,
   "id": "0349de9a-7a14-4678-a5e0-1723b68b82ac",
   "metadata": {},
   "outputs": [],
   "source": []
  }
 ],
 "metadata": {
  "kernelspec": {
   "display_name": "Python 3 (ipykernel)",
   "language": "python",
   "name": "python3"
  },
  "language_info": {
   "codemirror_mode": {
    "name": "ipython",
    "version": 3
   },
   "file_extension": ".py",
   "mimetype": "text/x-python",
   "name": "python",
   "nbconvert_exporter": "python",
   "pygments_lexer": "ipython3",
   "version": "3.12.6"
  }
 },
 "nbformat": 4,
 "nbformat_minor": 5
}
