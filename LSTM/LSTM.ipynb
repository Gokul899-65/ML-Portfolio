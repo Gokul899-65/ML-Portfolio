{
 "cells": [
  {
   "cell_type": "code",
   "execution_count": 1,
   "id": "0a8b4c8c-ba97-4485-bfe0-9138173d3d94",
   "metadata": {},
   "outputs": [
    {
     "name": "stdout",
     "output_type": "stream",
     "text": [
      "Downloading data from https://storage.googleapis.com/tensorflow/tf-keras-datasets/imdb.npz\n",
      "\u001b[1m17464789/17464789\u001b[0m \u001b[32m━━━━━━━━━━━━━━━━━━━━\u001b[0m\u001b[37m\u001b[0m \u001b[1m2s\u001b[0m 0us/step\n"
     ]
    },
    {
     "name": "stderr",
     "output_type": "stream",
     "text": [
      "C:\\Users\\Administrator\\AppData\\Local\\Programs\\Python\\Python312\\Lib\\site-packages\\keras\\src\\layers\\core\\embedding.py:90: UserWarning: Argument `input_length` is deprecated. Just remove it.\n",
      "  warnings.warn(\n"
     ]
    },
    {
     "name": "stdout",
     "output_type": "stream",
     "text": [
      "Epoch 1/5\n",
      "\u001b[1m782/782\u001b[0m \u001b[32m━━━━━━━━━━━━━━━━━━━━\u001b[0m\u001b[37m\u001b[0m \u001b[1m350s\u001b[0m 428ms/step - accuracy: 0.7053 - loss: 0.5338 - val_accuracy: 0.8574 - val_loss: 0.3266\n",
      "Epoch 2/5\n",
      "\u001b[1m782/782\u001b[0m \u001b[32m━━━━━━━━━━━━━━━━━━━━\u001b[0m\u001b[37m\u001b[0m \u001b[1m241s\u001b[0m 308ms/step - accuracy: 0.8748 - loss: 0.3171 - val_accuracy: 0.8604 - val_loss: 0.3425\n",
      "Epoch 3/5\n",
      "\u001b[1m782/782\u001b[0m \u001b[32m━━━━━━━━━━━━━━━━━━━━\u001b[0m\u001b[37m\u001b[0m \u001b[1m249s\u001b[0m 318ms/step - accuracy: 0.9154 - loss: 0.2216 - val_accuracy: 0.8690 - val_loss: 0.3179\n",
      "Epoch 4/5\n",
      "\u001b[1m782/782\u001b[0m \u001b[32m━━━━━━━━━━━━━━━━━━━━\u001b[0m\u001b[37m\u001b[0m \u001b[1m238s\u001b[0m 305ms/step - accuracy: 0.9418 - loss: 0.1650 - val_accuracy: 0.8657 - val_loss: 0.4281\n",
      "Epoch 5/5\n",
      "\u001b[1m782/782\u001b[0m \u001b[32m━━━━━━━━━━━━━━━━━━━━\u001b[0m\u001b[37m\u001b[0m \u001b[1m147s\u001b[0m 188ms/step - accuracy: 0.9545 - loss: 0.1311 - val_accuracy: 0.8616 - val_loss: 0.4137\n",
      "\u001b[1m782/782\u001b[0m \u001b[32m━━━━━━━━━━━━━━━━━━━━\u001b[0m\u001b[37m\u001b[0m \u001b[1m96s\u001b[0m 122ms/step - accuracy: 0.8594 - loss: 0.4155\n",
      "Test Accuracy: 0.86\n",
      "Downloading data from https://storage.googleapis.com/tensorflow/tf-keras-datasets/imdb_word_index.json\n",
      "\u001b[1m1641221/1641221\u001b[0m \u001b[32m━━━━━━━━━━━━━━━━━━━━\u001b[0m\u001b[37m\u001b[0m \u001b[1m1s\u001b[0m 0us/step\n",
      "\u001b[1m1/1\u001b[0m \u001b[32m━━━━━━━━━━━━━━━━━━━━\u001b[0m\u001b[37m\u001b[0m \u001b[1m1s\u001b[0m 1s/step   \n",
      "Prediction: Positive\n"
     ]
    }
   ],
   "source": [
    "import tensorflow as tf\n",
    "from tensorflow import keras\n",
    "from tensorflow.keras import layers\n",
    "import numpy as np\n",
    "import matplotlib.pyplot as plt\n",
    "\n",
    "# Load IMDb dataset\n",
    "num_words = 10000  # Keep only the top 10,000 most frequently occurring words\n",
    "(x_train, y_train), (x_test, y_test) = keras.datasets.imdb.load_data(num_words=num_words)\n",
    "\n",
    "# Pad sequences to ensure uniform input length\n",
    "maxlen = 200  # Maximum review length\n",
    "x_train = keras.preprocessing.sequence.pad_sequences(x_train, maxlen=maxlen)\n",
    "x_test = keras.preprocessing.sequence.pad_sequences(x_test, maxlen=maxlen)\n",
    "\n",
    "# Build LSTM-based RNN Model\n",
    "model = keras.Sequential([\n",
    "    layers.Embedding(input_dim=num_words, output_dim=128, input_length=maxlen),\n",
    "    layers.LSTM(64, return_sequences=True, dropout=0.2),\n",
    "    layers.LSTM(64, dropout=0.2),\n",
    "    layers.Dense(64, activation='relu'),\n",
    "    layers.Dropout(0.5),\n",
    "    layers.Dense(1, activation='sigmoid')\n",
    "])\n",
    "\n",
    "# Compile the model\n",
    "model.compile(optimizer='adam', loss='binary_crossentropy', metrics=['accuracy'])\n",
    "\n",
    "# Train the model\n",
    "epochs = 5\n",
    "batch_size = 32\n",
    "history = model.fit(x_train, y_train, epochs=epochs, batch_size=batch_size, validation_data=(x_test, y_test))\n",
    "\n",
    "# Evaluate the model\n",
    "test_loss, test_acc = model.evaluate(x_test, y_test)\n",
    "print(f\"Test Accuracy: {test_acc:.2f}\")\n",
    "\n",
    "# Function to predict sentiment of a given review\n",
    "def predict_review(review, model, word_index=keras.datasets.imdb.get_word_index()):\n",
    "    reverse_word_index = {value: key for key, value in word_index.items()}\n",
    "    words = review.lower().split()\n",
    "    sequence = [word_index.get(word, 2) for word in words]  # Use 2 (unknown token) if word not found\n",
    "    padded_sequence = keras.preprocessing.sequence.pad_sequences([sequence], maxlen=maxlen)\n",
    "    prediction = model.predict(padded_sequence)[0][0]\n",
    "    print(\"Prediction:\", \"Positive\" if prediction > 0.5 else \"Negative\")\n",
    "\n",
    "# Example usage\n",
    "example_review = \"The movie was fantastic! I really enjoyed it.\"\n",
    "predict_review(example_review, model)"
   ]
  },
  {
   "cell_type": "code",
   "execution_count": null,
   "id": "3e20bb5f-a9ff-478c-aad6-e1908d8abdef",
   "metadata": {},
   "outputs": [],
   "source": []
  }
 ],
 "metadata": {
  "kernelspec": {
   "display_name": "Python 3 (ipykernel)",
   "language": "python",
   "name": "python3"
  },
  "language_info": {
   "codemirror_mode": {
    "name": "ipython",
    "version": 3
   },
   "file_extension": ".py",
   "mimetype": "text/x-python",
   "name": "python",
   "nbconvert_exporter": "python",
   "pygments_lexer": "ipython3",
   "version": "3.12.6"
  }
 },
 "nbformat": 4,
 "nbformat_minor": 5
}
